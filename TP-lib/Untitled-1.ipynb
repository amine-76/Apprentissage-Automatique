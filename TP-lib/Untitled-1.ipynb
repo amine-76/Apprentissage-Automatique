{
 "cells": [
  {
   "cell_type": "code",
   "execution_count": 11,
   "id": "3c68edd1",
   "metadata": {},
   "outputs": [
    {
     "name": "stdout",
     "output_type": "stream",
     "text": [
      "[[-1.99429733 -0.82655813 -1.93680938  2.36585916]\n",
      " [ 1.66638421  1.87854134  1.1641232  -1.23484482]\n",
      " [ 1.63721482 -1.33167844  2.04027779  0.8654948 ]]\n"
     ]
    }
   ],
   "source": [
    "import numpy as np\n",
    "import matplotlib.pyplot as plt\n",
    "\n",
    "A = np.random.rand(3,4)\n",
    "A = A * 5 - 2.5 \n",
    "\n",
    "print(A)"
   ]
  },
  {
   "cell_type": "code",
   "execution_count": 12,
   "id": "6d8694b3",
   "metadata": {},
   "outputs": [
    {
     "name": "stdout",
     "output_type": "stream",
     "text": [
      "Matrice originale :\n",
      " [[-1.99429733 -0.82655813 -1.93680938  2.36585916]\n",
      " [ 1.66638421  1.87854134  1.1641232  -1.23484482]\n",
      " [ 1.63721482 -1.33167844  2.04027779  0.8654948 ]]\n",
      "\n",
      "Arrondi supérieur (ceil) :\n",
      " [[-1. -0. -1.  3.]\n",
      " [ 2.  2.  2. -1.]\n",
      " [ 2. -1.  3.  1.]]\n",
      "\n",
      "Arrondi inférieur (floor) :\n",
      " [[-2. -1. -2.  2.]\n",
      " [ 1.  1.  1. -2.]\n",
      " [ 1. -2.  2.  0.]]\n",
      "\n",
      "Arrondi au plus proche (around) :\n",
      " [[-2. -1. -2.  2.]\n",
      " [ 2.  2.  1. -1.]\n",
      " [ 2. -1.  2.  1.]]\n",
      "\n",
      "Valeur tronquée (trunc) :\n",
      " [[-1. -0. -1.  2.]\n",
      " [ 1.  1.  1. -1.]\n",
      " [ 1. -1.  2.  0.]]\n"
     ]
    }
   ],
   "source": [
    "print(\"Matrice originale :\\n\", A)\n",
    "print(\"\\nArrondi supérieur (ceil) :\\n\", np.ceil(A))\n",
    "print(\"\\nArrondi inférieur (floor) :\\n\", np.floor(A))\n",
    "print(\"\\nArrondi au plus proche (around) :\\n\", np.around(A))\n",
    "print(\"\\nValeur tronquée (trunc) :\\n\", np.trunc(A))"
   ]
  },
  {
   "cell_type": "code",
   "execution_count": 13,
   "id": "47b8abca",
   "metadata": {},
   "outputs": [
    {
     "name": "stdout",
     "output_type": "stream",
     "text": [
      "\n",
      "Matrice B après suppression de la dernière colonne de A :\n",
      " [[-1.99429733 -0.82655813 -1.93680938  2.36585916]\n",
      " [ 1.66638421  1.87854134  1.1641232  -1.23484482]\n",
      " [ 1.63721482 -1.33167844  2.04027779  0.8654948 ]]\n"
     ]
    }
   ],
   "source": [
    "B = np.delete(A,-1,axis=1) # Méthode pour supp une ligne  \n",
    "print(\"\\nMatrice B après suppression de la dernière colonne de A :\\n\", A)"
   ]
  },
  {
   "cell_type": "code",
   "execution_count": 14,
   "id": "70c569f0",
   "metadata": {},
   "outputs": [
    {
     "name": "stdout",
     "output_type": "stream",
     "text": [
      "\n",
      "Matrice C (reshape de A):\n",
      " [[-1.99429733 -0.82655813 -1.93680938  2.36585916  1.66638421  1.87854134]\n",
      " [ 1.1641232  -1.23484482  1.63721482 -1.33167844  2.04027779  0.8654948 ]]\n"
     ]
    }
   ],
   "source": [
    "C = np.reshape(A,(2,6))\n",
    "print(\"\\nMatrice C (reshape de A):\\n\",C)"
   ]
  },
  {
   "cell_type": "markdown",
   "id": "e15f2a6d",
   "metadata": {},
   "source": [
    "Oui, c’est tout à fait possible.\n",
    "B = np.delete(A, -1, axis=1) crée une nouvelle matrice B identique à A mais sans la dernière colonne.\n",
    "\n",
    "Tu peux ensuite ajouter une dimension supplémentaire à B comme ceci"
   ]
  },
  {
   "cell_type": "markdown",
   "id": "c63a2f81",
   "metadata": {},
   "source": [
    "# Exercice 2 "
   ]
  },
  {
   "cell_type": "code",
   "execution_count": 15,
   "id": "b82bfe9f",
   "metadata": {},
   "outputs": [
    {
     "name": "stdout",
     "output_type": "stream",
     "text": [
      "\n",
      "Matrice E :\n",
      " [[4 5 6]\n",
      " [0 0 0]\n",
      " [0 0 0]\n",
      " [0 0 0]\n",
      " [1 2 3]]\n"
     ]
    }
   ],
   "source": [
    "V = np.array([1,2,3])\n",
    "U = np.array([4,5,6])\n",
    "\n",
    "E = np.zeros((5,3),dtype=int)\n",
    "\n",
    "E[0,:] = U\n",
    "E[-1,:] = V\n",
    "\n",
    "print(\"\\nMatrice E :\\n\",E)"
   ]
  },
  {
   "cell_type": "markdown",
   "id": "8adf55d3",
   "metadata": {},
   "source": [
    "# Exercice 3 "
   ]
  }
 ],
 "metadata": {
  "kernelspec": {
   "display_name": "venv",
   "language": "python",
   "name": "python3"
  },
  "language_info": {
   "codemirror_mode": {
    "name": "ipython",
    "version": 3
   },
   "file_extension": ".py",
   "mimetype": "text/x-python",
   "name": "python",
   "nbconvert_exporter": "python",
   "pygments_lexer": "ipython3",
   "version": "3.12.3"
  }
 },
 "nbformat": 4,
 "nbformat_minor": 5
}
