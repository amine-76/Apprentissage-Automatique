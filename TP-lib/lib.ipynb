{
 "cells": [
  {
   "cell_type": "code",
   "execution_count": 2,
   "id": "3c68edd1",
   "metadata": {},
   "outputs": [
    {
     "name": "stdout",
     "output_type": "stream",
     "text": [
      "[[ 1.64291739 -2.46606515  0.29142398 -1.72213863]\n",
      " [ 2.43388715 -1.08180881  2.17373969  0.19674727]\n",
      " [ 0.56836944 -0.01738692 -1.2827353   0.99608332]]\n"
     ]
    }
   ],
   "source": [
    "import numpy as np\n",
    "import matplotlib.pyplot as plt\n",
    "\n",
    "A = np.random.rand(3,4)\n",
    "A = A * 5 - 2.5 \n",
    "\n",
    "print(A)"
   ]
  },
  {
   "cell_type": "code",
   "execution_count": 43,
   "id": "6d8694b3",
   "metadata": {},
   "outputs": [
    {
     "name": "stdout",
     "output_type": "stream",
     "text": [
      "Matrice originale :\n",
      " [[ 1.31619698  0.12490056 -2.20652041  0.19928046]\n",
      " [-2.41391274 -1.51518261  0.85517291 -2.2441378 ]\n",
      " [-1.07569744 -1.84805711  1.2587608   0.48182749]]\n",
      "\n",
      "Arrondi supérieur (ceil) :\n",
      " [[ 2.  1. -2.  1.]\n",
      " [-2. -1.  1. -2.]\n",
      " [-1. -1.  2.  1.]]\n",
      "\n",
      "Arrondi inférieur (floor) :\n",
      " [[ 1.  0. -3.  0.]\n",
      " [-3. -2.  0. -3.]\n",
      " [-2. -2.  1.  0.]]\n",
      "\n",
      "Arrondi au plus proche (around) :\n",
      " [[ 1.  0. -2.  0.]\n",
      " [-2. -2.  1. -2.]\n",
      " [-1. -2.  1.  0.]]\n",
      "\n",
      "Valeur tronquée (trunc) :\n",
      " [[ 1.  0. -2.  0.]\n",
      " [-2. -1.  0. -2.]\n",
      " [-1. -1.  1.  0.]]\n"
     ]
    }
   ],
   "source": [
    "print(\"Matrice originale :\\n\", A)\n",
    "print(\"\\nArrondi supérieur (ceil) :\\n\", np.ceil(A))\n",
    "print(\"\\nArrondi inférieur (floor) :\\n\", np.floor(A))\n",
    "print(\"\\nArrondi au plus proche (around) :\\n\", np.around(A))\n",
    "print(\"\\nValeur tronquée (trunc) :\\n\", np.trunc(A))"
   ]
  },
  {
   "cell_type": "code",
   "execution_count": 44,
   "id": "47b8abca",
   "metadata": {},
   "outputs": [
    {
     "name": "stdout",
     "output_type": "stream",
     "text": [
      "\n",
      "Matrice B après suppression de la dernière colonne de A :\n",
      " [[ 1.31619698  0.12490056 -2.20652041  0.19928046]\n",
      " [-2.41391274 -1.51518261  0.85517291 -2.2441378 ]\n",
      " [-1.07569744 -1.84805711  1.2587608   0.48182749]]\n"
     ]
    }
   ],
   "source": [
    "B = np.delete(A,-1,axis=1) # Méthode pour supp une ligne  \n",
    "print(\"\\nMatrice B après suppression de la dernière colonne de A :\\n\", A)"
   ]
  },
  {
   "cell_type": "code",
   "execution_count": 45,
   "id": "70c569f0",
   "metadata": {},
   "outputs": [
    {
     "name": "stdout",
     "output_type": "stream",
     "text": [
      "\n",
      "Matrice C (reshape de A):\n",
      " [[ 1.31619698  0.12490056 -2.20652041  0.19928046 -2.41391274 -1.51518261]\n",
      " [ 0.85517291 -2.2441378  -1.07569744 -1.84805711  1.2587608   0.48182749]]\n"
     ]
    }
   ],
   "source": [
    "C = np.reshape(A,(2,6))\n",
    "print(\"\\nMatrice C (reshape de A):\\n\",C)"
   ]
  },
  {
   "cell_type": "markdown",
   "id": "e15f2a6d",
   "metadata": {},
   "source": [
    "Oui, c’est tout à fait possible.\n",
    "B = np.delete(A, -1, axis=1) crée une nouvelle matrice B identique à A mais sans la dernière colonne.\n",
    "\n",
    "Tu peux ensuite ajouter une dimension supplémentaire à B comme ceci"
   ]
  },
  {
   "cell_type": "markdown",
   "id": "c63a2f81",
   "metadata": {},
   "source": [
    "# Exercice 2 "
   ]
  },
  {
   "cell_type": "code",
   "execution_count": 46,
   "id": "b82bfe9f",
   "metadata": {},
   "outputs": [
    {
     "name": "stdout",
     "output_type": "stream",
     "text": [
      "\n",
      "Matrice E :\n",
      " [[4 5 6]\n",
      " [0 0 0]\n",
      " [0 0 0]\n",
      " [0 0 0]\n",
      " [1 2 3]]\n"
     ]
    }
   ],
   "source": [
    "V = np.array([1,2,3])\n",
    "U = np.array([4,5,6])\n",
    "\n",
    "E = np.zeros((5,3),dtype=int)\n",
    "\n",
    "E[0,:] = U\n",
    "E[-1,:] = V\n",
    "\n",
    "print(\"\\nMatrice E :\\n\",E)"
   ]
  },
  {
   "cell_type": "markdown",
   "id": "8adf55d3",
   "metadata": {},
   "source": [
    "# Exercice 3 "
   ]
  },
  {
   "cell_type": "code",
   "execution_count": 47,
   "id": "2d9c728e",
   "metadata": {},
   "outputs": [
    {
     "name": "stdout",
     "output_type": "stream",
     "text": [
      "\n",
      "Matrice A construite avec arrange() : \n",
      " [[ 0  1  2  3]\n",
      " [ 4  5  6  7]\n",
      " [ 8  9 10 11]\n",
      " [12 13 14 15]]\n",
      "\n",
      "Matrice A diagonale : \n",
      " [[ 0  0  0  0]\n",
      " [ 0  5  0  0]\n",
      " [ 0  0 10  0]\n",
      " [ 0  0  0 15]]\n"
     ]
    }
   ],
   "source": [
    "A = np.arange(16).reshape(4,4)\n",
    "print(\"\\nMatrice A construite avec arrange() : \\n\",A)\n",
    "A_diag = np.diag(np.diag(A))\n",
    "print(\"\\nMatrice A diagonale : \\n\",A_diag)"
   ]
  },
  {
   "cell_type": "markdown",
   "id": "e06c1656",
   "metadata": {},
   "source": [
    "Maintenant si l'on veut la matrice indiquer dans l'exo 3 : "
   ]
  },
  {
   "cell_type": "code",
   "execution_count": 48,
   "id": "cbb57998",
   "metadata": {},
   "outputs": [
    {
     "name": "stdout",
     "output_type": "stream",
     "text": [
      "\n",
      " Matrice A contruite avec diag off et main diago :\n",
      " [[ 2. -1.  0.  0.  0.]\n",
      " [-1.  2. -1.  0.  0.]\n",
      " [ 0. -1.  2. -1.  0.]\n",
      " [ 0.  0. -1.  2. -1.]\n",
      " [ 0.  0.  0. -1.  2.]]\n"
     ]
    }
   ],
   "source": [
    "n = 5\n",
    "\n",
    "main_diago = np.ones(n) * 2\n",
    "diago_off = np.ones(n-1) * -1\n",
    "A = np.diag(main_diago) + np.diag(diago_off,k=1) + np.diag(diago_off,k=-1)\n",
    "\n",
    "print(\"\\n Matrice A contruite avec diag off et main diago :\\n\",A)"
   ]
  },
  {
   "cell_type": "markdown",
   "id": "3db0c867",
   "metadata": {},
   "source": [
    "# Exercice 4 : "
   ]
  },
  {
   "cell_type": "code",
   "execution_count": 49,
   "id": "4f81c019",
   "metadata": {},
   "outputs": [
    {
     "name": "stdout",
     "output_type": "stream",
     "text": [
      "\n",
      "Matrice A :\n",
      " [[ 0  1  2  3]\n",
      " [ 4  5  6  7]\n",
      " [ 8  9 10 11]\n",
      " [12 13 14 15]]\n",
      "\n",
      "Matrice D :\n",
      " [[0.5 0.  0.  0. ]\n",
      " [0.  1.  0.  0. ]\n",
      " [0.  0.  2.  0. ]\n",
      " [0.  0.  0.  3. ]]\n",
      "\n",
      "Produit Matrice A et D  avec dot() :\n",
      " [[ 0.  1.  4.  9.]\n",
      " [ 2.  5. 12. 21.]\n",
      " [ 4.  9. 20. 33.]\n",
      " [ 6. 13. 28. 45.]]\n",
      "\n",
      "Produit avec l'opérateur *\n",
      " [[ 0.  0.  0.  0.]\n",
      " [ 0.  5.  0.  0.]\n",
      " [ 0.  0. 20.  0.]\n",
      " [ 0.  0.  0. 45.]]\n"
     ]
    }
   ],
   "source": [
    "n = 4 \n",
    "A = np.arange(16).reshape((n,n))\n",
    "D = np.diag([0.5,1,2,3])\n",
    "print(\"\\nMatrice A :\\n\",A)\n",
    "print(\"\\nMatrice D :\\n\",D)\n",
    "\n",
    "prod_AD = np.dot(A,D)\n",
    "print(\"\\nProduit Matrice A et D  avec dot() :\\n\",prod_AD)\n",
    "print(\"\\nProduit avec l'opérateur *\\n\",A*D)"
   ]
  },
  {
   "cell_type": "markdown",
   "id": "0d3a196f",
   "metadata": {},
   "source": [
    "On remarque que l'opérateur * ne fait pas l'opération matritiel mais muttiplie éléments par éléments"
   ]
  },
  {
   "cell_type": "markdown",
   "id": "f887af99",
   "metadata": {},
   "source": [
    "# Exercice 5 "
   ]
  },
  {
   "cell_type": "code",
   "execution_count": 50,
   "id": "63fc3646",
   "metadata": {},
   "outputs": [
    {
     "name": "stdout",
     "output_type": "stream",
     "text": [
      "\n",
      "Matrice A : \n",
      " [[ 0  1  2  3  4]\n",
      " [ 5  6  7  8  9]\n",
      " [10 11 12 13 14]\n",
      " [15 16 17 18 19]\n",
      " [20 21 22 23 24]]\n",
      "\n",
      " Matrice A (partie inf) : \n",
      " [[ 0  0  0  0  0]\n",
      " [ 5  0  0  0  0]\n",
      " [10 11  0  0  0]\n",
      " [15 16 17  0  0]\n",
      " [20 21 22 23  0]]\n"
     ]
    }
   ],
   "source": [
    "A = np.arange(25).reshape((5,5))\n",
    "print(\"\\nMatrice A : \\n\",A)\n",
    "\n",
    "A_inf = np.tril(A,k=-1)\n",
    "\n",
    "print(\"\\n Matrice A (partie inf) : \\n\",A_inf)"
   ]
  },
  {
   "cell_type": "markdown",
   "id": "343d47c8",
   "metadata": {},
   "source": [
    "# Exercice 6 : "
   ]
  },
  {
   "cell_type": "code",
   "execution_count": 51,
   "id": "bae54511",
   "metadata": {},
   "outputs": [
    {
     "name": "stdout",
     "output_type": "stream",
     "text": [
      "\n",
      "f(x) = exp(x): \n",
      " [[1.00000000e+00 2.71828183e+00 7.38905610e+00 2.00855369e+01\n",
      "  5.45981500e+01]\n",
      " [1.48413159e+02 4.03428793e+02 1.09663316e+03 2.98095799e+03\n",
      "  8.10308393e+03]\n",
      " [2.20264658e+04 5.98741417e+04 1.62754791e+05 4.42413392e+05\n",
      "  1.20260428e+06]\n",
      " [3.26901737e+06 8.88611052e+06 2.41549528e+07 6.56599691e+07\n",
      "  1.78482301e+08]\n",
      " [4.85165195e+08 1.31881573e+09 3.58491285e+09 9.74480345e+09\n",
      "  2.64891221e+10]]\n",
      "\n",
      "f(x) = tan(2*pi*x): \n",
      " [[ 0.00000000e+00 -2.44929360e-16 -4.89858720e-16 -7.34788079e-16\n",
      "  -9.79717439e-16]\n",
      " [-1.22464680e-15 -1.46957616e-15 -1.71450552e-15 -1.95943488e-15\n",
      "  -2.20436424e-15]\n",
      " [-2.44929360e-15 -9.79965032e-15 -2.93915232e-15  3.92134568e-15\n",
      "  -3.42901104e-15]\n",
      " [-1.07793678e-14 -3.91886976e-15  2.94162824e-15 -4.40872848e-15\n",
      "  -1.17590852e-14]\n",
      " [-4.89858720e-15  1.96191080e-15 -1.95993006e-14 -1.27388026e-14\n",
      "  -5.87830464e-15]]\n",
      "\n",
      "f(x) = 4x³-x+1: \n",
      " [[    1     4    31   106   253]\n",
      " [  496   859  1366  2041  2908]\n",
      " [ 3991  5314  6901  8776 10963]\n",
      " [13486 16369 19636 23311 27418]\n",
      " [31981 37024 42571 48646 55273]]\n",
      "\n",
      "f(x) = (x-5)(x+1): \n",
      " [[ -5  -8  -9  -8  -5]\n",
      " [  0   7  16  27  40]\n",
      " [ 55  72  91 112 135]\n",
      " [160 187 216 247 280]\n",
      " [315 352 391 432 475]]\n",
      "\n",
      "f(x) = 1/(1+x²): \n",
      " [[1.         0.5        0.2        0.1        0.05882353]\n",
      " [0.03846154 0.02702703 0.02       0.01538462 0.01219512]\n",
      " [0.00990099 0.00819672 0.00689655 0.00588235 0.00507614]\n",
      " [0.00442478 0.00389105 0.00344828 0.00307692 0.00276243]\n",
      " [0.00249377 0.00226244 0.00206186 0.00188679 0.0017331 ]]\n"
     ]
    }
   ],
   "source": [
    "A_exp = np.exp(A)\n",
    "print(\"\\nf(x) = exp(x): \\n\",A_exp)\n",
    "A_tan = np.tan(2*np.pi*A)  \n",
    "print(\"\\nf(x) = tan(2*pi*x): \\n\",A_tan)\n",
    "A_poly = 4*A**3-A+1  \n",
    "print(\"\\nf(x) = 4x³-x+1: \\n\",A_poly)\n",
    "A_fact = (A-5)*(A+1)\n",
    "print(\"\\nf(x) = (x-5)(x+1): \\n\",A_fact)\n",
    "A_div = 1/(1+A**2)  \n",
    "print(\"\\nf(x) = 1/(1+x²): \\n\",A_div)  "
   ]
  },
  {
   "cell_type": "markdown",
   "id": "8a5164d9",
   "metadata": {},
   "source": [
    "# Exercice 7 "
   ]
  },
  {
   "cell_type": "markdown",
   "id": "3730b4b6",
   "metadata": {},
   "source": [
    "Assemblage des bocks : "
   ]
  },
  {
   "cell_type": "code",
   "execution_count": 3,
   "id": "054656ed",
   "metadata": {},
   "outputs": [
    {
     "name": "stdout",
     "output_type": "stream",
     "text": [
      "\n",
      " Matrice A assemblé par block:\n",
      " [[ 3  5 12  0  0]\n",
      " [ 3 -1  1  0  3]\n",
      " [ 2 -1  1  3  0]\n",
      " [ 0  0  3 -1  0]\n",
      " [ 0  3  0  0 -1]]\n"
     ]
    }
   ],
   "source": [
    "A11 = np.array([[3,5,12],\n",
    "                [3,-1,1],\n",
    "                [2,-1,1]])\n",
    "A21 = np.array([[0,0,3],\n",
    "               [0,3,0]])\n",
    "A12 = np.array([[0,0],\n",
    "               [0,3],\n",
    "               [3,0]])\n",
    "A22 = np.array([[-1,0],\n",
    "               [0,-1]])\n",
    "\n",
    "A = np.block([[A11,A12],\n",
    "             [A21,A22]])\n",
    "\n",
    "print(\"\\n Matrice A assemblé par block:\\n\",A)"
   ]
  },
  {
   "cell_type": "markdown",
   "id": "17a917d3",
   "metadata": {},
   "source": [
    "Extraction des blocks : "
   ]
  },
  {
   "cell_type": "code",
   "execution_count": 4,
   "id": "ef2fce52",
   "metadata": {},
   "outputs": [
    {
     "name": "stdout",
     "output_type": "stream",
     "text": [
      "A11 extrait :\n",
      " [[ 3  5 12]\n",
      " [ 3 -1  1]\n",
      " [ 2 -1  1]]\n",
      "A12 extrait :\n",
      " [[0 0]\n",
      " [0 3]\n",
      " [3 0]]\n",
      "A21 extrait :\n",
      " [[0 0 3]\n",
      " [0 3 0]]\n",
      "A22 extrait :\n",
      " [[-1  0]\n",
      " [ 0 -1]]\n"
     ]
    }
   ],
   "source": [
    "A11_extract = A[:3,:3]\n",
    "A12_extract = A[:3,3:]\n",
    "A21_extract = A[3:,:3]\n",
    "A22_extract = A[3:,3:]\n",
    "\n",
    "print(\"A11 extrait :\\n\",A11_extract)\n",
    "print(\"A12 extrait :\\n\",A12_extract)\n",
    "print(\"A21 extrait :\\n\",A21_extract)\n",
    "print(\"A22 extrait :\\n\",A22_extract)"
   ]
  },
  {
   "cell_type": "markdown",
   "id": "13fd5381",
   "metadata": {},
   "source": [
    "Calcule des opérations éléments par éléments : "
   ]
  },
  {
   "cell_type": "code",
   "execution_count": 5,
   "id": "a393adc4",
   "metadata": {},
   "outputs": [
    {
     "name": "stdout",
     "output_type": "stream",
     "text": [
      "Matrice A : \n",
      " [[ 3  5 12  0  0]\n",
      " [ 3 -1  1  0  3]\n",
      " [ 2 -1  1  3  0]\n",
      " [ 0  0  3 -1  0]\n",
      " [ 0  3  0  0 -1]]\n",
      "2 x A :\n",
      " [[ 6 10 24  0  0]\n",
      " [ 6 -2  2  0  6]\n",
      " [ 4 -2  2  6  0]\n",
      " [ 0  0  6 -2  0]\n",
      " [ 0  6  0  0 -2]]\n",
      "2 + A :\n",
      " [[ 5  7 14  2  2]\n",
      " [ 5  1  3  2  5]\n",
      " [ 4  1  3  5  2]\n",
      " [ 2  2  5  1  2]\n",
      " [ 2  5  2  2  1]]\n",
      "A - 1 :\n",
      " [[ 2  4 11 -1 -1]\n",
      " [ 2 -2  0 -1  2]\n",
      " [ 1 -2  0  2 -1]\n",
      " [-1 -1  2 -2 -1]\n",
      " [-1  2 -1 -1 -2]]\n",
      "A / 2 :\n",
      " [[ 1.5  2.5  6.   0.   0. ]\n",
      " [ 1.5 -0.5  0.5  0.   1.5]\n",
      " [ 1.  -0.5  0.5  1.5  0. ]\n",
      " [ 0.   0.   1.5 -0.5  0. ]\n",
      " [ 0.   1.5  0.   0.  -0.5]]\n"
     ]
    }
   ],
   "source": [
    "print(\"Matrice A : \\n\",A)\n",
    "\n",
    "op1 = 2 * A\n",
    "op2 = 2 + A\n",
    "op3 = A - 1\n",
    "op4 = A/2.0\n",
    "\n",
    "print(\"2 x A :\\n\",op1)\n",
    "print(\"2 + A :\\n\",op2)\n",
    "print(\"A - 1 :\\n\",op3)\n",
    "print(\"A / 2 :\\n\",op4)"
   ]
  },
  {
   "cell_type": "code",
   "execution_count": 7,
   "id": "1e80b4eb",
   "metadata": {},
   "outputs": [
    {
     "name": "stdout",
     "output_type": "stream",
     "text": [
      "matrice B :\n",
      " [[ 0  1  2  3  4]\n",
      " [ 5  6  7  8  9]\n",
      " [10 11 12 13 14]\n",
      " [15 16 17 18 19]\n",
      " [20 21 22 23 24]]\n",
      "Blocs extraits de B :\n",
      "B11 extrait :\n",
      " [[ 0  1  2]\n",
      " [ 5  6  7]\n",
      " [10 11 12]]\n",
      "B12 extrait :\n",
      " [[ 3  4]\n",
      " [ 8  9]\n",
      " [13 14]]\n",
      "B21 extrait :\n",
      " [[15 16 17]\n",
      " [20 21 22]]\n",
      "B22 extrait :\n",
      " [[18 19]\n",
      " [23 24]]\n",
      "\n",
      "A x B par blocs :\n",
      " [[145 165 185 205 225]\n",
      " [ 65  71  77  83  89]\n",
      " [ 50  55  60  65  70]\n",
      " [ 15  17  19  21  23]\n",
      " [ -5  -3  -1   1   3]]\n"
     ]
    }
   ],
   "source": [
    "B = np.arange(25).reshape((5,5))\n",
    "print(\"matrice B :\\n\",B)\n",
    "\n",
    "B11_extract = B[:3,:3]\n",
    "B12_extract = B[:3,3:]\n",
    "B21_extract = B[3:,:3]\n",
    "B22_extract = B[3:,3:]\n",
    "\n",
    "print(\"Blocs extraits de B :\")\n",
    "print(\"B11 extrait :\\n\", B11_extract)\n",
    "print(\"B12 extrait :\\n\", B12_extract)\n",
    "print(\"B21 extrait :\\n\", B21_extract)\n",
    "print(\"B22 extrait :\\n\", B22_extract)\n",
    "\n",
    "# Produit par blocs\n",
    "# Block matrix multiplication\n",
    "C11 = np.dot(A11_extract, B11_extract) + np.dot(A12_extract, B21_extract)\n",
    "C12 = np.dot(A11_extract, B12_extract) + np.dot(A12_extract, B22_extract)\n",
    "C21 = np.dot(A21_extract, B11_extract) + np.dot(A22_extract, B21_extract)\n",
    "C22 = np.dot(A21_extract, B12_extract) + np.dot(A22_extract, B22_extract)\n",
    "\n",
    "res = np.block([[C11, C12],\n",
    "                [C21, C22]])\n",
    "\n",
    "print(\"\\nA x B par blocs :\\n\",res)\n",
    "\n"
   ]
  },
  {
   "cell_type": "markdown",
   "id": "caf5d4b9",
   "metadata": {},
   "source": [
    "# Exercice 8 "
   ]
  }
 ],
 "metadata": {
  "kernelspec": {
   "display_name": "venv",
   "language": "python",
   "name": "python3"
  },
  "language_info": {
   "codemirror_mode": {
    "name": "ipython",
    "version": 3
   },
   "file_extension": ".py",
   "mimetype": "text/x-python",
   "name": "python",
   "nbconvert_exporter": "python",
   "pygments_lexer": "ipython3",
   "version": "3.12.3"
  }
 },
 "nbformat": 4,
 "nbformat_minor": 5
}
