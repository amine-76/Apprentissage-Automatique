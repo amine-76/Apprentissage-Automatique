{
 "cells": [
  {
   "cell_type": "markdown",
   "id": "a5a421ae",
   "metadata": {},
   "source": [
    "# Exercice 2\n",
    "\n",
    "1. Utiliser la fonction  loadtxt du package  numpy en Python (ici désigné par  np ).\n",
    "Cette fonction permet de lire les fichiers et de les concertir en vecteurs/matrices :"
   ]
  },
  {
   "cell_type": "code",
   "execution_count": 2,
   "id": "a01a7691",
   "metadata": {},
   "outputs": [
    {
     "name": "stdout",
     "output_type": "stream",
     "text": [
      "x : \n",
      " [[2.104e+03 3.000e+00]\n",
      " [1.600e+03 3.000e+00]\n",
      " [2.400e+03 3.000e+00]\n",
      " [1.416e+03 2.000e+00]\n",
      " [3.000e+03 4.000e+00]]\n",
      "y : \n",
      " [399900. 329900. 369000. 232000. 539900.]\n"
     ]
    }
   ],
   "source": [
    "import numpy as np \n",
    "\n",
    "x = np.loadtxt('ex2dat/ex2x.dat')\n",
    "y = np.loadtxt('ex2dat/ex2y.dat')\n",
    "\n",
    "# On affiche les 5 premières valeurs pour vérifié \n",
    "print(\"x : \\n\",x[:5]) \n",
    "print(\"y : \\n\",y[:5]) "
   ]
  },
  {
   "cell_type": "markdown",
   "id": "ae5a44b8",
   "metadata": {},
   "source": [
    "2. Normalisation des données : "
   ]
  },
  {
   "cell_type": "code",
   "execution_count": 3,
   "id": "f2be85f6",
   "metadata": {},
   "outputs": [
    {
     "name": "stdout",
     "output_type": "stream",
     "text": [
      "Données normaliser : [[ 0.13141542 -0.22609337]\n",
      " [-0.5096407  -0.22609337]\n",
      " [ 0.5079087  -0.22609337]\n",
      " [-0.74367706 -1.5543919 ]\n",
      " [ 1.27107075  1.10220517]]\n"
     ]
    }
   ],
   "source": [
    "import sklearn as sk\n",
    "\n",
    "scaler = sk.preprocessing.StandardScaler()\n",
    "\n",
    "dataX_norm = scaler.fit_transform(x)\n",
    "\n",
    "print(\"Données normaliser :\",dataX_norm[:5])"
   ]
  },
  {
   "cell_type": "markdown",
   "id": "f271059e",
   "metadata": {},
   "source": [
    "3. \n",
    "Définir les fonctions en Python sous forme matricielle pour représenter la fonction d'hypothèse, le vecteur tel défini dans le cours :[...] , la fonction décrivanrt une itération et la fonction de coût J($\\theta$) "
   ]
  },
  {
   "cell_type": "code",
   "execution_count": null,
   "id": "e76230c6",
   "metadata": {},
   "outputs": [
    {
     "name": "stdout",
     "output_type": "stream",
     "text": [
      "\n",
      " Matrice X : \n",
      " [[ 1.          0.13141542 -0.22609337]\n",
      " [ 1.         -0.5096407  -0.22609337]\n",
      " [ 1.          0.5079087  -0.22609337]\n",
      " [ 1.         -0.74367706 -1.5543919 ]\n",
      " [ 1.          1.27107075  1.10220517]]\n",
      "\n",
      " Vecteur Y : \n",
      " [399900. 329900. 369000. 232000. 539900.]\n",
      "\n",
      "Test fonction d'hyothèse : \n",
      " [[ 1.37587753]\n",
      " [ 0.09376529]\n",
      " [ 2.12886408]\n",
      " [ 0.28984183]\n",
      " [ 2.99103891]\n",
      " [ 0.40900732]\n",
      " [-0.07413036]\n",
      " [-0.34632483]\n",
      " [-0.46588688]\n",
      " [-0.1758853 ]\n",
      " [ 0.29453301]\n",
      " [ 1.11131468]\n",
      " [ 0.8314886 ]\n",
      " [ 6.08673466]\n",
      " [-0.75080071]\n",
      " [ 1.21032746]\n",
      " [ 0.04562998]\n",
      " [-0.83220466]\n",
      " [ 1.99638437]\n",
      " [ 3.06989899]\n",
      " [ 0.51859216]\n",
      " [ 1.49055012]\n",
      " [ 0.10394078]\n",
      " [ 0.35049822]\n",
      " [ 5.91923558]\n",
      " [-1.17817146]\n",
      " [-0.26746475]\n",
      " [ 2.44939214]\n",
      " [ 1.62008938]\n",
      " [ 2.7317621 ]\n",
      " [ 1.36590032]\n",
      " [-0.10426027]\n",
      " [ 0.54892036]\n",
      " [ 4.00369884]\n",
      " [-0.03362667]\n",
      " [-0.32088609]\n",
      " [-0.82457304]\n",
      " [ 0.78295672]\n",
      " [ 6.0818452 ]\n",
      " [ 0.85927292]\n",
      " [ 0.92072246]\n",
      " [ 1.71675658]\n",
      " [ 1.88954169]\n",
      " [-0.92378411]\n",
      " [-1.14490282]\n",
      " [ 0.07067214]\n",
      " [-0.91615249]]\n"
     ]
    }
   ],
   "source": [
    "\n",
    "# On construit la matrice X augmentée et le vecteur Y \n",
    "X = np.c_[np.ones(dataX_norm.shape[0]), dataX_norm]\n",
    "Y = y \n",
    "\n",
    "print(\"\\n Matrice X : \\n\",X[:5])\n",
    "print(\"\\n Vecteur Y : \\n\",Y[:5])\n",
    "\n",
    "# Fonction hypothèse\n",
    "def h(theta,X):\n",
    "     return X @ theta\n",
    "\n",
    "\n",
    "theta_test1 = np.array([1.0, 2.0, -0.5])  # [θ0, θ1, θ2]\n",
    "test = h(theta_test1,X)\n",
    "print(\"\\nTest fonction d'hyothèse : \\n\",test)      "
   ]
  },
  {
   "cell_type": "markdown",
   "id": "ed9a0c20",
   "metadata": {},
   "source": [
    "Calcule du vecteur définit dans le cours ($E = h_{\\theta}(X) - Y$\n",
    ") : "
   ]
  },
  {
   "cell_type": "code",
   "execution_count": 7,
   "id": "49e16f45",
   "metadata": {},
   "outputs": [
    {
     "name": "stdout",
     "output_type": "stream",
     "text": [
      "[-399898.62412247 -329899.90623471 -368997.87113592 -231999.71015817\n",
      " -539897.00896109]\n"
     ]
    }
   ],
   "source": [
    "def E(theta,X,Y): \n",
    "    return h(theta,X) - Y\n",
    "\n",
    "# Test\n",
    "theta = np.array([1.0, 2.0, -0.5])\n",
    "err = E(theta, X, Y)\n",
    "print(err[:5])\n"
   ]
  },
  {
   "cell_type": "markdown",
   "id": "8a7ed76a",
   "metadata": {},
   "source": [
    "Définition de la fonction fonction coût $J(\\theta)$: "
   ]
  },
  {
   "cell_type": "code",
   "execution_count": 10,
   "id": "8f777885",
   "metadata": {},
   "outputs": [
    {
     "name": "stdout",
     "output_type": "stream",
     "text": [
      "Test fonction coût :\n",
      " 3082786761705.557\n"
     ]
    }
   ],
   "source": [
    "\n",
    "def J(theta,X,Y):\n",
    "    # Variable du resultat de la fonction cout  \n",
    "    res = None\n",
    "    m = X.shape[0]\n",
    "    # Somme critère des moindre carré \n",
    "    somme_crit = np.sum(E(theta,X,Y)**2)\n",
    "    \n",
    "    res = (1.0/(2*m))*(somme_crit)\n",
    "    return res\n",
    "\n",
    "result_test = J(theta_test1,X,Y)\n",
    "print(\"Test fonction coût :\\n\",result_test)"
   ]
  },
  {
   "cell_type": "markdown",
   "id": "02e3cdf4",
   "metadata": {},
   "source": [
    "fonction décrivant une itération pour calculer une nouvelle valeur de theta : "
   ]
  },
  {
   "cell_type": "code",
   "execution_count": 12,
   "id": "f6137b52",
   "metadata": {},
   "outputs": [],
   "source": [
    "def iteration(theta, X, Y, alpha=0.07):\n",
    "    theta = np.asarray(theta, dtype=float)\n",
    "    m = X.shape[0]\n",
    "    e = E(theta, X, Y)                      # e = h(theta,X) - Y\n",
    "    assert e.shape[0] == m\n",
    "    grad = (1.0 / m) * (X.T @ e)            # vecteur gradient (n_features,)\n",
    "    theta_next = theta - alpha * grad\n",
    "    return theta_next\n",
    "    "
   ]
  },
  {
   "cell_type": "markdown",
   "id": "6032c638",
   "metadata": {},
   "source": [
    "Fonction "
   ]
  }
 ],
 "metadata": {
  "kernelspec": {
   "display_name": "venv",
   "language": "python",
   "name": "python3"
  },
  "language_info": {
   "codemirror_mode": {
    "name": "ipython",
    "version": 3
   },
   "file_extension": ".py",
   "mimetype": "text/x-python",
   "name": "python",
   "nbconvert_exporter": "python",
   "pygments_lexer": "ipython3",
   "version": "3.13.7"
  }
 },
 "nbformat": 4,
 "nbformat_minor": 5
}
